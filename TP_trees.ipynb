{
  "nbformat": 4,
  "nbformat_minor": 0,
  "metadata": {
    "colab": {
      "name": "TP_trees.ipynb",
      "provenance": [],
      "collapsed_sections": [],
      "authorship_tag": "ABX9TyNABScm2CzH8UgwtvkTsCF2",
      "include_colab_link": true
    },
    "kernelspec": {
      "name": "python3",
      "display_name": "Python 3"
    }
  },
  "cells": [
    {
      "cell_type": "markdown",
      "metadata": {
        "id": "view-in-github",
        "colab_type": "text"
      },
      "source": [
        "<a href=\"https://colab.research.google.com/github/BDouchet/SDATA/blob/main/TP_trees.ipynb\" target=\"_parent\"><img src=\"https://colab.research.google.com/assets/colab-badge.svg\" alt=\"Open In Colab\"/></a>"
      ]
    },
    {
      "cell_type": "markdown",
      "metadata": {
        "id": "VNC_33--5Jgv"
      },
      "source": [
        "# Import & load"
      ]
    },
    {
      "cell_type": "code",
      "metadata": {
        "id": "-dpySQpVsmci"
      },
      "source": [
        "import numpy as np\r\n",
        "import pandas as pd\r\n",
        "import matplotlib.pyplot as plt\r\n",
        "import os\r\n",
        "from pydrive.auth import GoogleAuth\r\n",
        "from pydrive.drive import GoogleDrive\r\n",
        "from google.colab import auth\r\n",
        "from oauth2client.client import GoogleCredentials\r\n",
        "\r\n",
        "auth.authenticate_user()\r\n",
        "gauth = GoogleAuth()\r\n",
        "gauth.credentials = GoogleCredentials.get_application_default()\r\n",
        "drive = GoogleDrive(gauth)\r\n",
        "\r\n",
        "id='1FIIo3FFl9VTavlLfk1c_OAyF00eOZ336'\r\n",
        "\r\n",
        "downloaded = drive.CreateFile({'id':id})\r\n",
        "downloaded.GetContentFile('iris.csv')"
      ],
      "execution_count": null,
      "outputs": []
    },
    {
      "cell_type": "code",
      "metadata": {
        "colab": {
          "base_uri": "https://localhost:8080/",
          "height": 502
        },
        "id": "hMa4m3nBtunR",
        "outputId": "5cfc6be6-8577-4368-c094-ec70077bcb66"
      },
      "source": [
        "df=pd.read_csv('iris.csv')\r\n",
        "print(df.dtypes)\r\n",
        "df"
      ],
      "execution_count": null,
      "outputs": [
        {
          "output_type": "stream",
          "text": [
            "sepal.length    float64\n",
            "sepal.width     float64\n",
            "petal.length    float64\n",
            "petal.width     float64\n",
            "variety          object\n",
            "dtype: object\n"
          ],
          "name": "stdout"
        },
        {
          "output_type": "execute_result",
          "data": {
            "text/html": [
              "<div>\n",
              "<style scoped>\n",
              "    .dataframe tbody tr th:only-of-type {\n",
              "        vertical-align: middle;\n",
              "    }\n",
              "\n",
              "    .dataframe tbody tr th {\n",
              "        vertical-align: top;\n",
              "    }\n",
              "\n",
              "    .dataframe thead th {\n",
              "        text-align: right;\n",
              "    }\n",
              "</style>\n",
              "<table border=\"1\" class=\"dataframe\">\n",
              "  <thead>\n",
              "    <tr style=\"text-align: right;\">\n",
              "      <th></th>\n",
              "      <th>sepal.length</th>\n",
              "      <th>sepal.width</th>\n",
              "      <th>petal.length</th>\n",
              "      <th>petal.width</th>\n",
              "      <th>variety</th>\n",
              "    </tr>\n",
              "  </thead>\n",
              "  <tbody>\n",
              "    <tr>\n",
              "      <th>0</th>\n",
              "      <td>5.1</td>\n",
              "      <td>3.5</td>\n",
              "      <td>1.4</td>\n",
              "      <td>0.2</td>\n",
              "      <td>Setosa</td>\n",
              "    </tr>\n",
              "    <tr>\n",
              "      <th>1</th>\n",
              "      <td>4.9</td>\n",
              "      <td>3.0</td>\n",
              "      <td>1.4</td>\n",
              "      <td>0.2</td>\n",
              "      <td>Setosa</td>\n",
              "    </tr>\n",
              "    <tr>\n",
              "      <th>2</th>\n",
              "      <td>4.7</td>\n",
              "      <td>3.2</td>\n",
              "      <td>1.3</td>\n",
              "      <td>0.2</td>\n",
              "      <td>Setosa</td>\n",
              "    </tr>\n",
              "    <tr>\n",
              "      <th>3</th>\n",
              "      <td>4.6</td>\n",
              "      <td>3.1</td>\n",
              "      <td>1.5</td>\n",
              "      <td>0.2</td>\n",
              "      <td>Setosa</td>\n",
              "    </tr>\n",
              "    <tr>\n",
              "      <th>4</th>\n",
              "      <td>5.0</td>\n",
              "      <td>3.6</td>\n",
              "      <td>1.4</td>\n",
              "      <td>0.2</td>\n",
              "      <td>Setosa</td>\n",
              "    </tr>\n",
              "    <tr>\n",
              "      <th>...</th>\n",
              "      <td>...</td>\n",
              "      <td>...</td>\n",
              "      <td>...</td>\n",
              "      <td>...</td>\n",
              "      <td>...</td>\n",
              "    </tr>\n",
              "    <tr>\n",
              "      <th>145</th>\n",
              "      <td>6.7</td>\n",
              "      <td>3.0</td>\n",
              "      <td>5.2</td>\n",
              "      <td>2.3</td>\n",
              "      <td>Virginica</td>\n",
              "    </tr>\n",
              "    <tr>\n",
              "      <th>146</th>\n",
              "      <td>6.3</td>\n",
              "      <td>2.5</td>\n",
              "      <td>5.0</td>\n",
              "      <td>1.9</td>\n",
              "      <td>Virginica</td>\n",
              "    </tr>\n",
              "    <tr>\n",
              "      <th>147</th>\n",
              "      <td>6.5</td>\n",
              "      <td>3.0</td>\n",
              "      <td>5.2</td>\n",
              "      <td>2.0</td>\n",
              "      <td>Virginica</td>\n",
              "    </tr>\n",
              "    <tr>\n",
              "      <th>148</th>\n",
              "      <td>6.2</td>\n",
              "      <td>3.4</td>\n",
              "      <td>5.4</td>\n",
              "      <td>2.3</td>\n",
              "      <td>Virginica</td>\n",
              "    </tr>\n",
              "    <tr>\n",
              "      <th>149</th>\n",
              "      <td>5.9</td>\n",
              "      <td>3.0</td>\n",
              "      <td>5.1</td>\n",
              "      <td>1.8</td>\n",
              "      <td>Virginica</td>\n",
              "    </tr>\n",
              "  </tbody>\n",
              "</table>\n",
              "<p>150 rows × 5 columns</p>\n",
              "</div>"
            ],
            "text/plain": [
              "     sepal.length  sepal.width  petal.length  petal.width    variety\n",
              "0             5.1          3.5           1.4          0.2     Setosa\n",
              "1             4.9          3.0           1.4          0.2     Setosa\n",
              "2             4.7          3.2           1.3          0.2     Setosa\n",
              "3             4.6          3.1           1.5          0.2     Setosa\n",
              "4             5.0          3.6           1.4          0.2     Setosa\n",
              "..            ...          ...           ...          ...        ...\n",
              "145           6.7          3.0           5.2          2.3  Virginica\n",
              "146           6.3          2.5           5.0          1.9  Virginica\n",
              "147           6.5          3.0           5.2          2.0  Virginica\n",
              "148           6.2          3.4           5.4          2.3  Virginica\n",
              "149           5.9          3.0           5.1          1.8  Virginica\n",
              "\n",
              "[150 rows x 5 columns]"
            ]
          },
          "metadata": {
            "tags": []
          },
          "execution_count": 2
        }
      ]
    },
    {
      "cell_type": "code",
      "metadata": {
        "colab": {
          "base_uri": "https://localhost:8080/"
        },
        "id": "-4kSPRKNugm5",
        "outputId": "899ee30d-92aa-4a2d-f459-b4da9aac1ce6"
      },
      "source": [
        "from sklearn.model_selection import train_test_split\r\n",
        "\r\n",
        "X_train,X_test,Y_train,Y_test = train_test_split(df[df.columns[:-1]].to_numpy(),\r\n",
        "                                                 df['variety'].to_numpy(),\r\n",
        "                                                 test_size=0.2,random_state=100)\r\n",
        "\r\n",
        "print(X_train.shape,X_test.shape,Y_train.shape,Y_test.shape)"
      ],
      "execution_count": null,
      "outputs": [
        {
          "output_type": "stream",
          "text": [
            "(120, 4) (30, 4) (120,) (30,)\n"
          ],
          "name": "stdout"
        }
      ]
    },
    {
      "cell_type": "markdown",
      "metadata": {
        "id": "i1F6U2Xc5Qnj"
      },
      "source": [
        "# Tree"
      ]
    },
    {
      "cell_type": "code",
      "metadata": {
        "colab": {
          "base_uri": "https://localhost:8080/"
        },
        "id": "ctulVECLt4b4",
        "outputId": "c683f3b3-e06d-4fa1-fc95-ede3de74ce2a"
      },
      "source": [
        "from sklearn.tree import DecisionTreeClassifier, export_graphviz\r\n",
        "\r\n",
        "dtc=DecisionTreeClassifier(criterion='entropy')\r\n",
        "dtc.fit(X_train,Y_train)\r\n",
        "\r\n",
        "dtc.score(X_test,Y_test)"
      ],
      "execution_count": null,
      "outputs": [
        {
          "output_type": "execute_result",
          "data": {
            "text/plain": [
              "0.9666666666666667"
            ]
          },
          "metadata": {
            "tags": []
          },
          "execution_count": 13
        }
      ]
    },
    {
      "cell_type": "code",
      "metadata": {
        "colab": {
          "base_uri": "https://localhost:8080/",
          "height": 916
        },
        "id": "4VqQfb9qyAvb",
        "outputId": "1cd3d181-c622-4729-99bd-614ac22ac932"
      },
      "source": [
        "from graphviz import Source\r\n",
        "import cv2\r\n",
        "from google.colab.patches import cv2_imshow\r\n",
        "\r\n",
        "dot_data=export_graphviz(dtc, feature_names=df.columns[:-1],class_names=df['variety'],filled=True)\r\n",
        "graph = Source(dot_data) \r\n",
        "graph"
      ],
      "execution_count": null,
      "outputs": [
        {
          "output_type": "execute_result",
          "data": {
            "text/plain": [
              "<graphviz.files.Source at 0x7feb640e4fd0>"
            ],
            "image/svg+xml": "<?xml version=\"1.0\" encoding=\"UTF-8\" standalone=\"no\"?>\n<!DOCTYPE svg PUBLIC \"-//W3C//DTD SVG 1.1//EN\"\n \"http://www.w3.org/Graphics/SVG/1.1/DTD/svg11.dtd\">\n<!-- Generated by graphviz version 2.40.1 (20161225.0304)\n -->\n<!-- Title: Tree Pages: 1 -->\n<svg width=\"555pt\" height=\"671pt\"\n viewBox=\"0.00 0.00 555.00 671.00\" xmlns=\"http://www.w3.org/2000/svg\" xmlns:xlink=\"http://www.w3.org/1999/xlink\">\n<g id=\"graph0\" class=\"graph\" transform=\"scale(1 1) rotate(0) translate(4 667)\">\n<title>Tree</title>\n<polygon fill=\"#ffffff\" stroke=\"transparent\" points=\"-4,4 -4,-667 551,-667 551,4 -4,4\"/>\n<!-- 0 -->\n<g id=\"node1\" class=\"node\">\n<title>0</title>\n<polygon fill=\"#f3fdf7\" stroke=\"#000000\" points=\"269.5,-663 137.5,-663 137.5,-580 269.5,-580 269.5,-663\"/>\n<text text-anchor=\"middle\" x=\"203.5\" y=\"-647.8\" font-family=\"Times,serif\" font-size=\"14.00\" fill=\"#000000\">petal.width &lt;= 0.8</text>\n<text text-anchor=\"middle\" x=\"203.5\" y=\"-632.8\" font-family=\"Times,serif\" font-size=\"14.00\" fill=\"#000000\">entropy = 1.581</text>\n<text text-anchor=\"middle\" x=\"203.5\" y=\"-617.8\" font-family=\"Times,serif\" font-size=\"14.00\" fill=\"#000000\">samples = 120</text>\n<text text-anchor=\"middle\" x=\"203.5\" y=\"-602.8\" font-family=\"Times,serif\" font-size=\"14.00\" fill=\"#000000\">value = [39, 44, 37]</text>\n<text text-anchor=\"middle\" x=\"203.5\" y=\"-587.8\" font-family=\"Times,serif\" font-size=\"14.00\" fill=\"#000000\">class = Setosa</text>\n</g>\n<!-- 1 -->\n<g id=\"node2\" class=\"node\">\n<title>1</title>\n<polygon fill=\"#e58139\" stroke=\"#000000\" points=\"191,-536.5 74,-536.5 74,-468.5 191,-468.5 191,-536.5\"/>\n<text text-anchor=\"middle\" x=\"132.5\" y=\"-521.3\" font-family=\"Times,serif\" font-size=\"14.00\" fill=\"#000000\">entropy = 0.0</text>\n<text text-anchor=\"middle\" x=\"132.5\" y=\"-506.3\" font-family=\"Times,serif\" font-size=\"14.00\" fill=\"#000000\">samples = 39</text>\n<text text-anchor=\"middle\" x=\"132.5\" y=\"-491.3\" font-family=\"Times,serif\" font-size=\"14.00\" fill=\"#000000\">value = [39, 0, 0]</text>\n<text text-anchor=\"middle\" x=\"132.5\" y=\"-476.3\" font-family=\"Times,serif\" font-size=\"14.00\" fill=\"#000000\">class = Setosa</text>\n</g>\n<!-- 0&#45;&gt;1 -->\n<g id=\"edge1\" class=\"edge\">\n<title>0&#45;&gt;1</title>\n<path fill=\"none\" stroke=\"#000000\" d=\"M178.6676,-579.8796C172.0413,-568.7735 164.8684,-556.7513 158.1967,-545.5691\"/>\n<polygon fill=\"#000000\" stroke=\"#000000\" points=\"161.1031,-543.6093 152.9736,-536.8149 155.0917,-547.1959 161.1031,-543.6093\"/>\n<text text-anchor=\"middle\" x=\"146.8502\" y=\"-557.3534\" font-family=\"Times,serif\" font-size=\"14.00\" fill=\"#000000\">True</text>\n</g>\n<!-- 2 -->\n<g id=\"node3\" class=\"node\">\n<title>2</title>\n<polygon fill=\"#e0fbeb\" stroke=\"#000000\" points=\"340,-544 209,-544 209,-461 340,-461 340,-544\"/>\n<text text-anchor=\"middle\" x=\"274.5\" y=\"-528.8\" font-family=\"Times,serif\" font-size=\"14.00\" fill=\"#000000\">petal.width &lt;= 1.65</text>\n<text text-anchor=\"middle\" x=\"274.5\" y=\"-513.8\" font-family=\"Times,serif\" font-size=\"14.00\" fill=\"#000000\">entropy = 0.995</text>\n<text text-anchor=\"middle\" x=\"274.5\" y=\"-498.8\" font-family=\"Times,serif\" font-size=\"14.00\" fill=\"#000000\">samples = 81</text>\n<text text-anchor=\"middle\" x=\"274.5\" y=\"-483.8\" font-family=\"Times,serif\" font-size=\"14.00\" fill=\"#000000\">value = [0, 44, 37]</text>\n<text text-anchor=\"middle\" x=\"274.5\" y=\"-468.8\" font-family=\"Times,serif\" font-size=\"14.00\" fill=\"#000000\">class = Setosa</text>\n</g>\n<!-- 0&#45;&gt;2 -->\n<g id=\"edge2\" class=\"edge\">\n<title>0&#45;&gt;2</title>\n<path fill=\"none\" stroke=\"#000000\" d=\"M228.3324,-579.8796C233.4909,-571.2335 238.9808,-562.0322 244.3076,-553.1042\"/>\n<polygon fill=\"#000000\" stroke=\"#000000\" points=\"247.4436,-554.679 249.5617,-544.2981 241.4322,-551.0924 247.4436,-554.679\"/>\n<text text-anchor=\"middle\" x=\"255.6851\" y=\"-564.8366\" font-family=\"Times,serif\" font-size=\"14.00\" fill=\"#000000\">False</text>\n</g>\n<!-- 3 -->\n<g id=\"node4\" class=\"node\">\n<title>3</title>\n<polygon fill=\"#4be78d\" stroke=\"#000000\" points=\"265.5,-425 131.5,-425 131.5,-342 265.5,-342 265.5,-425\"/>\n<text text-anchor=\"middle\" x=\"198.5\" y=\"-409.8\" font-family=\"Times,serif\" font-size=\"14.00\" fill=\"#000000\">petal.length &lt;= 4.95</text>\n<text text-anchor=\"middle\" x=\"198.5\" y=\"-394.8\" font-family=\"Times,serif\" font-size=\"14.00\" fill=\"#000000\">entropy = 0.42</text>\n<text text-anchor=\"middle\" x=\"198.5\" y=\"-379.8\" font-family=\"Times,serif\" font-size=\"14.00\" fill=\"#000000\">samples = 47</text>\n<text text-anchor=\"middle\" x=\"198.5\" y=\"-364.8\" font-family=\"Times,serif\" font-size=\"14.00\" fill=\"#000000\">value = [0, 43, 4]</text>\n<text text-anchor=\"middle\" x=\"198.5\" y=\"-349.8\" font-family=\"Times,serif\" font-size=\"14.00\" fill=\"#000000\">class = Setosa</text>\n</g>\n<!-- 2&#45;&gt;3 -->\n<g id=\"edge3\" class=\"edge\">\n<title>2&#45;&gt;3</title>\n<path fill=\"none\" stroke=\"#000000\" d=\"M247.9189,-460.8796C242.3395,-452.1434 236.3981,-442.8404 230.6405,-433.8253\"/>\n<polygon fill=\"#000000\" stroke=\"#000000\" points=\"233.5269,-431.8421 225.1946,-425.2981 227.6274,-435.6098 233.5269,-431.8421\"/>\n</g>\n<!-- 10 -->\n<g id=\"node11\" class=\"node\">\n<title>10</title>\n<polygon fill=\"#853fe6\" stroke=\"#000000\" points=\"417.5,-425 283.5,-425 283.5,-342 417.5,-342 417.5,-425\"/>\n<text text-anchor=\"middle\" x=\"350.5\" y=\"-409.8\" font-family=\"Times,serif\" font-size=\"14.00\" fill=\"#000000\">petal.length &lt;= 4.85</text>\n<text text-anchor=\"middle\" x=\"350.5\" y=\"-394.8\" font-family=\"Times,serif\" font-size=\"14.00\" fill=\"#000000\">entropy = 0.191</text>\n<text text-anchor=\"middle\" x=\"350.5\" y=\"-379.8\" font-family=\"Times,serif\" font-size=\"14.00\" fill=\"#000000\">samples = 34</text>\n<text text-anchor=\"middle\" x=\"350.5\" y=\"-364.8\" font-family=\"Times,serif\" font-size=\"14.00\" fill=\"#000000\">value = [0, 1, 33]</text>\n<text text-anchor=\"middle\" x=\"350.5\" y=\"-349.8\" font-family=\"Times,serif\" font-size=\"14.00\" fill=\"#000000\">class = Setosa</text>\n</g>\n<!-- 2&#45;&gt;10 -->\n<g id=\"edge10\" class=\"edge\">\n<title>2&#45;&gt;10</title>\n<path fill=\"none\" stroke=\"#000000\" d=\"M301.0811,-460.8796C306.6605,-452.1434 312.6019,-442.8404 318.3595,-433.8253\"/>\n<polygon fill=\"#000000\" stroke=\"#000000\" points=\"321.3726,-435.6098 323.8054,-425.2981 315.4731,-431.8421 321.3726,-435.6098\"/>\n</g>\n<!-- 4 -->\n<g id=\"node5\" class=\"node\">\n<title>4</title>\n<polygon fill=\"#39e581\" stroke=\"#000000\" points=\"117,-298.5 0,-298.5 0,-230.5 117,-230.5 117,-298.5\"/>\n<text text-anchor=\"middle\" x=\"58.5\" y=\"-283.3\" font-family=\"Times,serif\" font-size=\"14.00\" fill=\"#000000\">entropy = 0.0</text>\n<text text-anchor=\"middle\" x=\"58.5\" y=\"-268.3\" font-family=\"Times,serif\" font-size=\"14.00\" fill=\"#000000\">samples = 42</text>\n<text text-anchor=\"middle\" x=\"58.5\" y=\"-253.3\" font-family=\"Times,serif\" font-size=\"14.00\" fill=\"#000000\">value = [0, 42, 0]</text>\n<text text-anchor=\"middle\" x=\"58.5\" y=\"-238.3\" font-family=\"Times,serif\" font-size=\"14.00\" fill=\"#000000\">class = Setosa</text>\n</g>\n<!-- 3&#45;&gt;4 -->\n<g id=\"edge4\" class=\"edge\">\n<title>3&#45;&gt;4</title>\n<path fill=\"none\" stroke=\"#000000\" d=\"M149.5348,-341.8796C135.6927,-330.1138 120.6408,-317.3197 106.8359,-305.5855\"/>\n<polygon fill=\"#000000\" stroke=\"#000000\" points=\"108.7567,-302.6247 98.8705,-298.8149 104.2231,-307.9582 108.7567,-302.6247\"/>\n</g>\n<!-- 5 -->\n<g id=\"node6\" class=\"node\">\n<title>5</title>\n<polygon fill=\"#a06aec\" stroke=\"#000000\" points=\"266,-306 135,-306 135,-223 266,-223 266,-306\"/>\n<text text-anchor=\"middle\" x=\"200.5\" y=\"-290.8\" font-family=\"Times,serif\" font-size=\"14.00\" fill=\"#000000\">petal.width &lt;= 1.55</text>\n<text text-anchor=\"middle\" x=\"200.5\" y=\"-275.8\" font-family=\"Times,serif\" font-size=\"14.00\" fill=\"#000000\">entropy = 0.722</text>\n<text text-anchor=\"middle\" x=\"200.5\" y=\"-260.8\" font-family=\"Times,serif\" font-size=\"14.00\" fill=\"#000000\">samples = 5</text>\n<text text-anchor=\"middle\" x=\"200.5\" y=\"-245.8\" font-family=\"Times,serif\" font-size=\"14.00\" fill=\"#000000\">value = [0, 1, 4]</text>\n<text text-anchor=\"middle\" x=\"200.5\" y=\"-230.8\" font-family=\"Times,serif\" font-size=\"14.00\" fill=\"#000000\">class = Setosa</text>\n</g>\n<!-- 3&#45;&gt;5 -->\n<g id=\"edge5\" class=\"edge\">\n<title>3&#45;&gt;5</title>\n<path fill=\"none\" stroke=\"#000000\" d=\"M199.1995,-341.8796C199.3372,-333.6838 199.4834,-324.9891 199.626,-316.5013\"/>\n<polygon fill=\"#000000\" stroke=\"#000000\" points=\"203.1289,-316.3555 199.7975,-306.2981 196.1299,-316.2378 203.1289,-316.3555\"/>\n</g>\n<!-- 6 -->\n<g id=\"node7\" class=\"node\">\n<title>6</title>\n<polygon fill=\"#8139e5\" stroke=\"#000000\" points=\"121.5,-179.5 11.5,-179.5 11.5,-111.5 121.5,-111.5 121.5,-179.5\"/>\n<text text-anchor=\"middle\" x=\"66.5\" y=\"-164.3\" font-family=\"Times,serif\" font-size=\"14.00\" fill=\"#000000\">entropy = 0.0</text>\n<text text-anchor=\"middle\" x=\"66.5\" y=\"-149.3\" font-family=\"Times,serif\" font-size=\"14.00\" fill=\"#000000\">samples = 3</text>\n<text text-anchor=\"middle\" x=\"66.5\" y=\"-134.3\" font-family=\"Times,serif\" font-size=\"14.00\" fill=\"#000000\">value = [0, 0, 3]</text>\n<text text-anchor=\"middle\" x=\"66.5\" y=\"-119.3\" font-family=\"Times,serif\" font-size=\"14.00\" fill=\"#000000\">class = Setosa</text>\n</g>\n<!-- 5&#45;&gt;6 -->\n<g id=\"edge6\" class=\"edge\">\n<title>5&#45;&gt;6</title>\n<path fill=\"none\" stroke=\"#000000\" d=\"M153.6333,-222.8796C140.3844,-211.1138 125.9776,-198.3197 112.7644,-186.5855\"/>\n<polygon fill=\"#000000\" stroke=\"#000000\" points=\"114.9416,-183.8381 105.1403,-179.8149 110.2935,-189.0722 114.9416,-183.8381\"/>\n</g>\n<!-- 7 -->\n<g id=\"node8\" class=\"node\">\n<title>7</title>\n<polygon fill=\"#ffffff\" stroke=\"#000000\" points=\"267.5,-187 139.5,-187 139.5,-104 267.5,-104 267.5,-187\"/>\n<text text-anchor=\"middle\" x=\"203.5\" y=\"-171.8\" font-family=\"Times,serif\" font-size=\"14.00\" fill=\"#000000\">sepal.length &lt;= 6.6</text>\n<text text-anchor=\"middle\" x=\"203.5\" y=\"-156.8\" font-family=\"Times,serif\" font-size=\"14.00\" fill=\"#000000\">entropy = 1.0</text>\n<text text-anchor=\"middle\" x=\"203.5\" y=\"-141.8\" font-family=\"Times,serif\" font-size=\"14.00\" fill=\"#000000\">samples = 2</text>\n<text text-anchor=\"middle\" x=\"203.5\" y=\"-126.8\" font-family=\"Times,serif\" font-size=\"14.00\" fill=\"#000000\">value = [0, 1, 1]</text>\n<text text-anchor=\"middle\" x=\"203.5\" y=\"-111.8\" font-family=\"Times,serif\" font-size=\"14.00\" fill=\"#000000\">class = Setosa</text>\n</g>\n<!-- 5&#45;&gt;7 -->\n<g id=\"edge7\" class=\"edge\">\n<title>5&#45;&gt;7</title>\n<path fill=\"none\" stroke=\"#000000\" d=\"M201.5493,-222.8796C201.7559,-214.6838 201.9751,-205.9891 202.189,-197.5013\"/>\n<polygon fill=\"#000000\" stroke=\"#000000\" points=\"205.693,-197.3831 202.4463,-187.2981 198.6953,-197.2067 205.693,-197.3831\"/>\n</g>\n<!-- 8 -->\n<g id=\"node9\" class=\"node\">\n<title>8</title>\n<polygon fill=\"#39e581\" stroke=\"#000000\" points=\"194.5,-68 84.5,-68 84.5,0 194.5,0 194.5,-68\"/>\n<text text-anchor=\"middle\" x=\"139.5\" y=\"-52.8\" font-family=\"Times,serif\" font-size=\"14.00\" fill=\"#000000\">entropy = 0.0</text>\n<text text-anchor=\"middle\" x=\"139.5\" y=\"-37.8\" font-family=\"Times,serif\" font-size=\"14.00\" fill=\"#000000\">samples = 1</text>\n<text text-anchor=\"middle\" x=\"139.5\" y=\"-22.8\" font-family=\"Times,serif\" font-size=\"14.00\" fill=\"#000000\">value = [0, 1, 0]</text>\n<text text-anchor=\"middle\" x=\"139.5\" y=\"-7.8\" font-family=\"Times,serif\" font-size=\"14.00\" fill=\"#000000\">class = Setosa</text>\n</g>\n<!-- 7&#45;&gt;8 -->\n<g id=\"edge8\" class=\"edge\">\n<title>7&#45;&gt;8</title>\n<path fill=\"none\" stroke=\"#000000\" d=\"M179.6688,-103.9815C174.6044,-95.1585 169.2475,-85.8258 164.1532,-76.9506\"/>\n<polygon fill=\"#000000\" stroke=\"#000000\" points=\"167.1807,-75.1942 159.167,-68.2637 161.1097,-78.6789 167.1807,-75.1942\"/>\n</g>\n<!-- 9 -->\n<g id=\"node10\" class=\"node\">\n<title>9</title>\n<polygon fill=\"#8139e5\" stroke=\"#000000\" points=\"322.5,-68 212.5,-68 212.5,0 322.5,0 322.5,-68\"/>\n<text text-anchor=\"middle\" x=\"267.5\" y=\"-52.8\" font-family=\"Times,serif\" font-size=\"14.00\" fill=\"#000000\">entropy = 0.0</text>\n<text text-anchor=\"middle\" x=\"267.5\" y=\"-37.8\" font-family=\"Times,serif\" font-size=\"14.00\" fill=\"#000000\">samples = 1</text>\n<text text-anchor=\"middle\" x=\"267.5\" y=\"-22.8\" font-family=\"Times,serif\" font-size=\"14.00\" fill=\"#000000\">value = [0, 0, 1]</text>\n<text text-anchor=\"middle\" x=\"267.5\" y=\"-7.8\" font-family=\"Times,serif\" font-size=\"14.00\" fill=\"#000000\">class = Setosa</text>\n</g>\n<!-- 7&#45;&gt;9 -->\n<g id=\"edge9\" class=\"edge\">\n<title>7&#45;&gt;9</title>\n<path fill=\"none\" stroke=\"#000000\" d=\"M227.3312,-103.9815C232.3956,-95.1585 237.7525,-85.8258 242.8468,-76.9506\"/>\n<polygon fill=\"#000000\" stroke=\"#000000\" points=\"245.8903,-78.6789 247.833,-68.2637 239.8193,-75.1942 245.8903,-78.6789\"/>\n</g>\n<!-- 11 -->\n<g id=\"node12\" class=\"node\">\n<title>11</title>\n<polygon fill=\"#ab7bee\" stroke=\"#000000\" points=\"412,-306 287,-306 287,-223 412,-223 412,-306\"/>\n<text text-anchor=\"middle\" x=\"349.5\" y=\"-290.8\" font-family=\"Times,serif\" font-size=\"14.00\" fill=\"#000000\">sepal.width &lt;= 3.1</text>\n<text text-anchor=\"middle\" x=\"349.5\" y=\"-275.8\" font-family=\"Times,serif\" font-size=\"14.00\" fill=\"#000000\">entropy = 0.811</text>\n<text text-anchor=\"middle\" x=\"349.5\" y=\"-260.8\" font-family=\"Times,serif\" font-size=\"14.00\" fill=\"#000000\">samples = 4</text>\n<text text-anchor=\"middle\" x=\"349.5\" y=\"-245.8\" font-family=\"Times,serif\" font-size=\"14.00\" fill=\"#000000\">value = [0, 1, 3]</text>\n<text text-anchor=\"middle\" x=\"349.5\" y=\"-230.8\" font-family=\"Times,serif\" font-size=\"14.00\" fill=\"#000000\">class = Setosa</text>\n</g>\n<!-- 10&#45;&gt;11 -->\n<g id=\"edge11\" class=\"edge\">\n<title>10&#45;&gt;11</title>\n<path fill=\"none\" stroke=\"#000000\" d=\"M350.1502,-341.8796C350.0814,-333.6838 350.0083,-324.9891 349.937,-316.5013\"/>\n<polygon fill=\"#000000\" stroke=\"#000000\" points=\"353.4352,-316.2683 349.8512,-306.2981 346.4355,-316.3272 353.4352,-316.2683\"/>\n</g>\n<!-- 14 -->\n<g id=\"node15\" class=\"node\">\n<title>14</title>\n<polygon fill=\"#8139e5\" stroke=\"#000000\" points=\"547,-298.5 430,-298.5 430,-230.5 547,-230.5 547,-298.5\"/>\n<text text-anchor=\"middle\" x=\"488.5\" y=\"-283.3\" font-family=\"Times,serif\" font-size=\"14.00\" fill=\"#000000\">entropy = 0.0</text>\n<text text-anchor=\"middle\" x=\"488.5\" y=\"-268.3\" font-family=\"Times,serif\" font-size=\"14.00\" fill=\"#000000\">samples = 30</text>\n<text text-anchor=\"middle\" x=\"488.5\" y=\"-253.3\" font-family=\"Times,serif\" font-size=\"14.00\" fill=\"#000000\">value = [0, 0, 30]</text>\n<text text-anchor=\"middle\" x=\"488.5\" y=\"-238.3\" font-family=\"Times,serif\" font-size=\"14.00\" fill=\"#000000\">class = Setosa</text>\n</g>\n<!-- 10&#45;&gt;14 -->\n<g id=\"edge14\" class=\"edge\">\n<title>10&#45;&gt;14</title>\n<path fill=\"none\" stroke=\"#000000\" d=\"M398.7657,-341.8796C412.4101,-330.1138 427.2469,-317.3197 440.8546,-305.5855\"/>\n<polygon fill=\"#000000\" stroke=\"#000000\" points=\"443.4187,-307.9961 448.7062,-298.8149 438.8473,-302.6948 443.4187,-307.9961\"/>\n</g>\n<!-- 12 -->\n<g id=\"node13\" class=\"node\">\n<title>12</title>\n<polygon fill=\"#8139e5\" stroke=\"#000000\" points=\"401.5,-179.5 291.5,-179.5 291.5,-111.5 401.5,-111.5 401.5,-179.5\"/>\n<text text-anchor=\"middle\" x=\"346.5\" y=\"-164.3\" font-family=\"Times,serif\" font-size=\"14.00\" fill=\"#000000\">entropy = 0.0</text>\n<text text-anchor=\"middle\" x=\"346.5\" y=\"-149.3\" font-family=\"Times,serif\" font-size=\"14.00\" fill=\"#000000\">samples = 3</text>\n<text text-anchor=\"middle\" x=\"346.5\" y=\"-134.3\" font-family=\"Times,serif\" font-size=\"14.00\" fill=\"#000000\">value = [0, 0, 3]</text>\n<text text-anchor=\"middle\" x=\"346.5\" y=\"-119.3\" font-family=\"Times,serif\" font-size=\"14.00\" fill=\"#000000\">class = Setosa</text>\n</g>\n<!-- 11&#45;&gt;12 -->\n<g id=\"edge12\" class=\"edge\">\n<title>11&#45;&gt;12</title>\n<path fill=\"none\" stroke=\"#000000\" d=\"M348.4507,-222.8796C348.1818,-212.2134 347.8916,-200.7021 347.6194,-189.9015\"/>\n<polygon fill=\"#000000\" stroke=\"#000000\" points=\"351.1161,-189.7235 347.3651,-179.8149 344.1183,-189.9 351.1161,-189.7235\"/>\n</g>\n<!-- 13 -->\n<g id=\"node14\" class=\"node\">\n<title>13</title>\n<polygon fill=\"#39e581\" stroke=\"#000000\" points=\"529.5,-179.5 419.5,-179.5 419.5,-111.5 529.5,-111.5 529.5,-179.5\"/>\n<text text-anchor=\"middle\" x=\"474.5\" y=\"-164.3\" font-family=\"Times,serif\" font-size=\"14.00\" fill=\"#000000\">entropy = 0.0</text>\n<text text-anchor=\"middle\" x=\"474.5\" y=\"-149.3\" font-family=\"Times,serif\" font-size=\"14.00\" fill=\"#000000\">samples = 1</text>\n<text text-anchor=\"middle\" x=\"474.5\" y=\"-134.3\" font-family=\"Times,serif\" font-size=\"14.00\" fill=\"#000000\">value = [0, 1, 0]</text>\n<text text-anchor=\"middle\" x=\"474.5\" y=\"-119.3\" font-family=\"Times,serif\" font-size=\"14.00\" fill=\"#000000\">class = Setosa</text>\n</g>\n<!-- 11&#45;&gt;13 -->\n<g id=\"edge13\" class=\"edge\">\n<title>11&#45;&gt;13</title>\n<path fill=\"none\" stroke=\"#000000\" d=\"M393.2189,-222.8796C405.4625,-211.2237 418.7661,-198.5587 430.9971,-186.9148\"/>\n<polygon fill=\"#000000\" stroke=\"#000000\" points=\"433.6254,-189.245 438.4549,-179.8149 428.7988,-184.1751 433.6254,-189.245\"/>\n</g>\n</g>\n</svg>\n"
          },
          "metadata": {
            "tags": []
          },
          "execution_count": 35
        }
      ]
    },
    {
      "cell_type": "markdown",
      "metadata": {
        "id": "AQeRbPBZ5TUL"
      },
      "source": [
        "# Subset Tree"
      ]
    },
    {
      "cell_type": "code",
      "metadata": {
        "colab": {
          "base_uri": "https://localhost:8080/"
        },
        "id": "YYcT9nw_5H8y",
        "outputId": "cbb58a0b-ea42-4d37-9d18-2a6b3f7922b7"
      },
      "source": [
        "Xs_train,Xs_test=X_train[:,:2],X_test[:,:2]\r\n",
        "Xp_train,Xp_test=X_train[:,2:],X_test[:,2:]\r\n",
        "\r\n",
        "print(Xs_train.shape,Xs_test.shape,Xp_train.shape,Xp_test.shape)"
      ],
      "execution_count": null,
      "outputs": [
        {
          "output_type": "stream",
          "text": [
            "(120, 2) (30, 2) (120, 2) (30, 2)\n"
          ],
          "name": "stdout"
        }
      ]
    },
    {
      "cell_type": "code",
      "metadata": {
        "colab": {
          "base_uri": "https://localhost:8080/"
        },
        "id": "OGQ8z_X76AwW",
        "outputId": "c19ab8c2-356c-43af-a435-5a686b3f797d"
      },
      "source": [
        "dtc=DecisionTreeClassifier(criterion='entropy')\r\n",
        "dtc.fit(X_train,Y_train)\r\n",
        "\r\n",
        "dtc_sepal=DecisionTreeClassifier(criterion='entropy')\r\n",
        "dtc_sepal.fit(Xs_train,Y_train)\r\n",
        "\r\n",
        "dtc_petal=DecisionTreeClassifier(criterion='entropy')\r\n",
        "dtc_petal.fit(Xp_train,Y_train)\r\n",
        "\r\n",
        "print('With entropy criterion')\r\n",
        "print(\"Score with all features : \"+ '%.3f' % dtc.score(X_test,Y_test))\r\n",
        "print(\"Score with sepals features : \"+ '%.3f' % dtc_sepal.score(Xs_test,Y_test))\r\n",
        "print(\"Score with petals features : \"+ '%.3f' % dtc_petal.score(Xp_test,Y_test))"
      ],
      "execution_count": null,
      "outputs": [
        {
          "output_type": "stream",
          "text": [
            "With entropy criterion\n",
            "Score with all features : 0.967\n",
            "Score with sepals features : 0.733\n",
            "Score with petals features : 0.967\n"
          ],
          "name": "stdout"
        }
      ]
    },
    {
      "cell_type": "code",
      "metadata": {
        "colab": {
          "base_uri": "https://localhost:8080/"
        },
        "id": "UDqoBuzZ8NlN",
        "outputId": "725669b7-34ce-4942-8167-b5b6a1a09818"
      },
      "source": [
        "dtcg=DecisionTreeClassifier(criterion='gini')\r\n",
        "dtcg.fit(X_train,Y_train)\r\n",
        "\r\n",
        "dtcg_sepal=DecisionTreeClassifier(criterion='gini')\r\n",
        "dtcg_sepal.fit(Xs_train,Y_train)\r\n",
        "\r\n",
        "dtcg_petal=DecisionTreeClassifier(criterion='gini')\r\n",
        "dtcg_petal.fit(Xp_train,Y_train)\r\n",
        "\r\n",
        "print('With Gini criterion')\r\n",
        "print(\"Score with all features : \"+ '%.3f' % dtcg.score(X_test,Y_test))\r\n",
        "print(\"Score with sepals features : \"+ '%.3f' % dtcg_sepal.score(Xs_test,Y_test))\r\n",
        "print(\"Score with petals features : \"+ '%.3f' % dtcg_petal.score(Xp_test,Y_test))"
      ],
      "execution_count": null,
      "outputs": [
        {
          "output_type": "stream",
          "text": [
            "With Gini criterion\n",
            "Score with all features : 0.967\n",
            "Score with sepals features : 0.733\n",
            "Score with petals features : 0.967\n"
          ],
          "name": "stdout"
        }
      ]
    },
    {
      "cell_type": "code",
      "metadata": {
        "colab": {
          "base_uri": "https://localhost:8080/"
        },
        "id": "AzCWKHKeBG7X",
        "outputId": "c493eb17-03d0-4f6e-a27b-c2fda99f1c29"
      },
      "source": [
        "from sklearn.metrics import confusion_matrix\r\n",
        "\r\n",
        "Yhat_test=dtc.predict(X_test)\r\n",
        "confusion_matrix(Y_test,Yhat_test)"
      ],
      "execution_count": null,
      "outputs": [
        {
          "output_type": "execute_result",
          "data": {
            "text/plain": [
              "array([[11,  0,  0],\n",
              "       [ 0,  5,  1],\n",
              "       [ 0,  0, 13]])"
            ]
          },
          "metadata": {
            "tags": []
          },
          "execution_count": 51
        }
      ]
    },
    {
      "cell_type": "markdown",
      "metadata": {
        "id": "97WjBylyBs32"
      },
      "source": [
        "# Random Forest"
      ]
    },
    {
      "cell_type": "code",
      "metadata": {
        "colab": {
          "base_uri": "https://localhost:8080/"
        },
        "id": "rzP0TW36Bpz-",
        "outputId": "b05f4d1b-f42d-48c5-de19-c52d2f60a426"
      },
      "source": [
        "from sklearn.ensemble import RandomForestClassifier\r\n",
        "\r\n",
        "rfc=RandomForestClassifier(criterion='entropy')\r\n",
        "rfc.fit(X_train,Y_train)\r\n",
        "print(rfc.score(X_test,Y_test))\r\n",
        "print(rfc.feature_importances_)"
      ],
      "execution_count": null,
      "outputs": [
        {
          "output_type": "stream",
          "text": [
            "0.9666666666666667\n",
            "[0.10817024 0.03049089 0.4360712  0.42526767]\n"
          ],
          "name": "stdout"
        }
      ]
    },
    {
      "cell_type": "markdown",
      "metadata": {
        "id": "7UUsq0avHVsh"
      },
      "source": [
        "# With MNIST"
      ]
    },
    {
      "cell_type": "code",
      "metadata": {
        "colab": {
          "base_uri": "https://localhost:8080/"
        },
        "id": "c5L-hjD1HXlF",
        "outputId": "78ad644a-5a4f-4112-f479-5c782d78df1b"
      },
      "source": [
        "from sklearn.datasets import fetch_openml\r\n",
        "mnist = fetch_openml('mnist_784')\r\n",
        "x = mnist.data\r\n",
        "y = mnist.target\r\n",
        "print(x.shape,y.shape)"
      ],
      "execution_count": null,
      "outputs": [
        {
          "output_type": "stream",
          "text": [
            "(70000, 784) (70000,)\n"
          ],
          "name": "stdout"
        }
      ]
    },
    {
      "cell_type": "code",
      "metadata": {
        "colab": {
          "base_uri": "https://localhost:8080/",
          "height": 483
        },
        "id": "Wp6zVLn1IUwk",
        "outputId": "8f3a9dfa-78e5-4e80-ee34-cc067bb210e8"
      },
      "source": [
        "_,axs=plt.subplots(ncols=5,nrows=2,figsize=(25,8))\r\n",
        "for i,ax in enumerate(axs.flatten()):\r\n",
        "    plt.sca(ax)\r\n",
        "    plt.imshow(np.reshape(x[i],(28,28)),cmap='gray')"
      ],
      "execution_count": null,
      "outputs": [
        {
          "output_type": "display_data",
          "data": {
            "image/png": "[encoded data removed]",
            "text/plain": [
              "<Figure size 1800x576 with 10 Axes>"
            ]
          },
          "metadata": {
            "tags": [],
            "needs_background": "light"
          }
        }
      ]
    },
    {
      "cell_type": "code",
      "metadata": {
        "id": "Z-Xhw-JrKHUP"
      },
      "source": [
        "x_train,x_test,y_train,y_test=train_test_split(x,y,test_size=0.2,random_state=1000)"
      ],
      "execution_count": null,
      "outputs": []
    },
    {
      "cell_type": "code",
      "metadata": {
        "colab": {
          "base_uri": "https://localhost:8080/"
        },
        "id": "9OkBtwBSJu7a",
        "outputId": "ecc1915b-cb69-4550-b09e-1cda4cd9523a"
      },
      "source": [
        "dt=DecisionTreeClassifier()\r\n",
        "dt.fit(x_train,y_train)"
      ],
      "execution_count": null,
      "outputs": [
        {
          "output_type": "execute_result",
          "data": {
            "text/plain": [
              "DecisionTreeClassifier(ccp_alpha=0.0, class_weight=None, criterion='gini',\n",
              "                       max_depth=None, max_features=None, max_leaf_nodes=None,\n",
              "                       min_impurity_decrease=0.0, min_impurity_split=None,\n",
              "                       min_samples_leaf=1, min_samples_split=2,\n",
              "                       min_weight_fraction_leaf=0.0, presort='deprecated',\n",
              "                       random_state=None, splitter='best')"
            ]
          },
          "metadata": {
            "tags": []
          },
          "execution_count": 68
        }
      ]
    },
    {
      "cell_type": "code",
      "metadata": {
        "colab": {
          "base_uri": "https://localhost:8080/"
        },
        "id": "Vn1-AKpCKghy",
        "outputId": "7e6eca7b-aa0c-4682-bcd6-3d4bc9902e76"
      },
      "source": [
        "print(dt.score(x_test,y_test))"
      ],
      "execution_count": null,
      "outputs": [
        {
          "output_type": "stream",
          "text": [
            "0.8717857142857143\n"
          ],
          "name": "stdout"
        }
      ]
    },
    {
      "cell_type": "code",
      "metadata": {
        "colab": {
          "base_uri": "https://localhost:8080/",
          "height": 668
        },
        "id": "W0xLL_ASKnug",
        "outputId": "ff9e663f-707d-4e3d-cf3e-b6635d33b69d"
      },
      "source": [
        "import seaborn as sbn\r\n",
        "yhat=dt.predict(x_test)\r\n",
        "cm=confusion_matrix(y_test,yhat)\r\n",
        "print(cm)\r\n",
        "plt.figure(figsize=(15,8))\r\n",
        "sbn.heatmap(cm,cmap='Blues',annot=True,)"
      ],
      "execution_count": null,
      "outputs": [
        {
          "output_type": "stream",
          "text": [
            "[[1314    2   23   16    3   16   16   10   12   10]\n",
            " [   2 1463   14    5    8    4    9    8   15    7]\n",
            " [  22   15 1207   33   18    6   24   27   33   14]\n",
            " [   7   14   37 1205   11   68   10   18   33   34]\n",
            " [   8    7   12   10 1195   11   21   15   23   62]\n",
            " [  12   14    9   70   14 1057   32   10   40   26]\n",
            " [  18   12   15    2   16   22 1233    5   28   10]\n",
            " [   1   11   33   15   16    6    2 1284   20   46]\n",
            " [  18   30   45   39   30   47   22   19 1079   50]\n",
            " [   7    4   15   29   67   17    5   40   33 1168]]\n"
          ],
          "name": "stdout"
        },
        {
          "output_type": "execute_result",
          "data": {
            "text/plain": [
              "<matplotlib.axes._subplots.AxesSubplot at 0x7feb6011f208>"
            ]
          },
          "metadata": {
            "tags": []
          },
          "execution_count": 76
        },
        {
          "output_type": "display_data",
          "data": {
            "image/png": "[encoded data removed]",
            "text/plain": [
              "<Figure size 1080x576 with 2 Axes>"
            ]
          },
          "metadata": {
            "tags": [],
            "needs_background": "light"
          }
        }
      ]
    }
  ]
}