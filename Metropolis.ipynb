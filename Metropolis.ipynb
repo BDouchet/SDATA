{
  "nbformat": 4,
  "nbformat_minor": 0,
  "metadata": {
    "colab": {
      "name": "Metropolis.ipynb",
      "provenance": [],
      "authorship_tag": "ABX9TyN5eg5baEdrUCXds5zPRAKJ",
      "include_colab_link": true
    },
    "kernelspec": {
      "display_name": "Python 3",
      "name": "python3"
    }
  },
  "cells": [
    {
      "cell_type": "markdown",
      "metadata": {
        "id": "view-in-github",
        "colab_type": "text"
      },
      "source": [
        "<a href=\"https://colab.research.google.com/github/BDouchet/SDATA/blob/main/Metropolis.ipynb\" target=\"_parent\"><img src=\"https://colab.research.google.com/assets/colab-badge.svg\" alt=\"Open In Colab\"/></a>"
      ]
    },
    {
      "cell_type": "code",
      "metadata": {
        "id": "w-L0LxS6fYmg"
      },
      "source": [
        "import numpy as np\r\n",
        "import matplotlib.pyplot as plt\r\n",
        "import math"
      ],
      "execution_count": null,
      "outputs": []
    },
    {
      "cell_type": "markdown",
      "metadata": {
        "id": "_hgP7pyZwEQI"
      },
      "source": [
        "#Ex 1"
      ]
    },
    {
      "cell_type": "code",
      "metadata": {
        "colab": {
          "base_uri": "https://localhost:8080/",
          "height": 268
        },
        "id": "bMmgBoAmf7dp",
        "outputId": "9d6bda65-0354-44cf-8339-b0fe8d71df03"
      },
      "source": [
        "def f(x):\r\n",
        "    return x*math.exp(-np.abs(x))\r\n",
        "\r\n",
        "X=np.linspace(-1,1,1000)\r\n",
        "plt.plot(X,[f(x) for x in X])\r\n",
        "plt.show()\r\n"
      ],
      "execution_count": null,
      "outputs": [
        {
          "output_type": "display_data",
          "data": {
            "image/png": "[encoded data removed]",
            "text/plain": [
              "<Figure size 432x288 with 1 Axes>"
            ]
          },
          "metadata": {
            "tags": []
          }
        }
      ]
    },
    {
      "cell_type": "code",
      "metadata": {
        "colab": {
          "base_uri": "https://localhost:8080/"
        },
        "id": "g-nBwQlZg2M3",
        "outputId": "4622242b-f1c5-4de4-b49d-378330b6b1a7"
      },
      "source": [
        "np.random.seed(0)\r\n",
        "\r\n",
        "def estimate_f_naive(N):\r\n",
        "    area=0\r\n",
        "    for _ in range(N):\r\n",
        "        x=np.random.rand()*2-1\r\n",
        "        area+=f(x)\r\n",
        "    return 2*area/N\r\n",
        "\r\n",
        "estimate_f_naive(1000000)\r\n"
      ],
      "execution_count": null,
      "outputs": [
        {
          "output_type": "execute_result",
          "data": {
            "text/plain": [
              "0.0007909439950832739"
            ]
          },
          "metadata": {
            "tags": []
          },
          "execution_count": 4
        }
      ]
    },
    {
      "cell_type": "code",
      "metadata": {
        "colab": {
          "base_uri": "https://localhost:8080/",
          "height": 265
        },
        "id": "LEJ_MBiWrx3g",
        "outputId": "5e9a10f0-39e7-4dff-effd-57f1fdaa00b4"
      },
      "source": [
        "def f2(x):\r\n",
        "    return math.exp(-np.abs(x))\r\n",
        "\r\n",
        "X=np.linspace(-1,1,1000)\r\n",
        "plt.plot(X,[f(x) for x in X])\r\n",
        "plt.plot(X,[f2(x) for x in X])\r\n",
        "plt.show()\r\n"
      ],
      "execution_count": null,
      "outputs": [
        {
          "output_type": "display_data",
          "data": {
            "image/png": "[encoded data removed]",
            "text/plain": [
              "<Figure size 432x288 with 1 Axes>"
            ]
          },
          "metadata": {
            "tags": []
          }
        }
      ]
    },
    {
      "cell_type": "code",
      "metadata": {
        "colab": {
          "base_uri": "https://localhost:8080/"
        },
        "id": "54Gcp5P6tnEj",
        "outputId": "313e563c-c1a3-4d6f-ac7f-c2b3258bca1b"
      },
      "source": [
        "np.random.seed(0)\r\n",
        "\r\n",
        "def estimate_f(N):\r\n",
        "    area=0\r\n",
        "    for _ in range(N):\r\n",
        "        x=np.random.rand()*2-1\r\n",
        "        area+=f(x)/f2(x)\r\n",
        "    return area/N\r\n",
        "\r\n",
        "estimate_f(1000000)"
      ],
      "execution_count": null,
      "outputs": [
        {
          "output_type": "execute_result",
          "data": {
            "text/plain": [
              "0.0007753962415458282"
            ]
          },
          "metadata": {
            "tags": []
          },
          "execution_count": 6
        }
      ]
    },
    {
      "cell_type": "code",
      "metadata": {
        "colab": {
          "base_uri": "https://localhost:8080/",
          "height": 265
        },
        "id": "fWbRfRMIt61b",
        "outputId": "4b3da005-4fed-4333-d5fa-c610eacc9d7d"
      },
      "source": [
        "np.random.seed(0)\r\n",
        "\r\n",
        "X=np.arange(1,6)\r\n",
        "plt.plot(X,[estimate_f_naive(10**x) for x in X],label='naive')\r\n",
        "plt.plot(X,[estimate_f(10**x) for x in X],label='with f2')\r\n",
        "plt.legend(loc='upper right')\r\n",
        "plt.show()"
      ],
      "execution_count": null,
      "outputs": [
        {
          "output_type": "display_data",
          "data": {
            "image/png": "[encoded data removed]",
            "text/plain": [
              "<Figure size 432x288 with 1 Axes>"
            ]
          },
          "metadata": {
            "tags": []
          }
        }
      ]
    },
    {
      "cell_type": "markdown",
      "metadata": {
        "id": "PGSc7RpTwHJ0"
      },
      "source": [
        "# Ex2"
      ]
    },
    {
      "cell_type": "code",
      "metadata": {
        "colab": {
          "base_uri": "https://localhost:8080/"
        },
        "id": "pt1JnPKhwDbc",
        "outputId": "21711850-b78d-4b45-f7c2-fe1df2c93789"
      },
      "source": [
        "np.random.seed(0)\r\n",
        "\r\n",
        "def Markov1(n,N,X0=-1):\r\n",
        "    p=np.array([[1/(n-1) for _ in range(n)] for _ in range(n)])\r\n",
        "    np.fill_diagonal(p,0)\r\n",
        "    if X0==-1:\r\n",
        "        X0=int(np.random.rand()*n)\r\n",
        "    state=np.zeros(n)\r\n",
        "    state[X0]=1\r\n",
        "    out=[X0]\r\n",
        "    for _ in range(N):\r\n",
        "        new_state = state @ p\r\n",
        "        X_i=np.searchsorted(np.cumsum(new_state),np.random.rand())\r\n",
        "        out.append(X_i)\r\n",
        "        state=np.zeros(n)\r\n",
        "        state[X_i]=1\r\n",
        "    return out\r\n",
        "    \r\n",
        "Markov1(10,15,1)"
      ],
      "execution_count": null,
      "outputs": [
        {
          "output_type": "execute_result",
          "data": {
            "text/plain": [
              "[1, 5, 7, 5, 4, 3, 6, 3, 9, 8, 3, 8, 4, 6, 9, 0]"
            ]
          },
          "metadata": {
            "tags": []
          },
          "execution_count": 10
        }
      ]
    },
    {
      "cell_type": "markdown",
      "metadata": {
        "id": "vr0djzR02pIH"
      },
      "source": [
        "# Ex 3"
      ]
    },
    {
      "cell_type": "code",
      "metadata": {
        "colab": {
          "base_uri": "https://localhost:8080/"
        },
        "id": "N1DpYXfX2rrI",
        "outputId": "24c492c0-345c-4348-c0e0-ff0f20b044ec"
      },
      "source": [
        "np.random.seed(0)\r\n",
        "\r\n",
        "def Markov2(n,N,init=[0,0]):\r\n",
        "    state=np.zeros((n,n))\r\n",
        "    state[X0]=1\r\n",
        "    out=[X0]\r\n",
        "    for _ in range(N):\r\n",
        "        p=np.array([[1/(n**2) for _ in range(n)] for _ in range(n)])\r\n",
        "    \r\n",
        "        np.fill_diagonal(p,0)\r\n",
        "\r\n",
        "        new_state = state @ p\r\n",
        "        X_i=np.searchsorted(np.cumsum(new_state),np.random.rand())\r\n",
        "        out.append(X_i)\r\n",
        "        state=np.zeros(n)\r\n",
        "        state[X_i]=1\r\n",
        "    return out\r\n",
        "    \r\n",
        "Markov1(10,8,1)"
      ],
      "execution_count": null,
      "outputs": [
        {
          "output_type": "execute_result",
          "data": {
            "text/plain": [
              "[1, 5, 7, 5, 4, 3, 6, 3, 9]"
            ]
          },
          "metadata": {
            "tags": []
          },
          "execution_count": 11
        }
      ]
    },
    {
      "cell_type": "markdown",
      "metadata": {
        "id": "AKRucl6E5Ntz"
      },
      "source": [
        "#Ex 4"
      ]
    },
    {
      "cell_type": "code",
      "metadata": {
        "id": "nk-M9UDP5Ng4"
      },
      "source": [
        "N=10000\r\n",
        "M=[]\r\n",
        "\r\n",
        "\r\n",
        "for _ in range(N):\r\n"
      ],
      "execution_count": null,
      "outputs": []
    },
    {
      "cell_type": "markdown",
      "metadata": {
        "id": "N1KvVT2a_yas"
      },
      "source": [
        "# Ex 5"
      ]
    },
    {
      "cell_type": "code",
      "metadata": {
        "id": "GCT41ZHU_zo5"
      },
      "source": [
        "n=50\r\n",
        "N=2000\r\n",
        "T=200\r\n",
        "\r\n",
        "q=np.array([[1/(n-1) for _ in range(n)] for _ in range(n)])\r\n",
        "np.fill_diagonal(q,0)\r\n",
        "\r\n",
        "def jump(i,j):\r\n",
        "    x=np.random.random()\r\n",
        "    y=np.random.random()\r\n",
        "    probs_x=np.cumsum(q[i,:])\r\n",
        "    probs_y=np.cumsum(q[j,:])\r\n",
        "    return np.searchsorted(probs_x,x),np.searchsorted(probs_y,y)\r\n",
        "\r\n"
      ],
      "execution_count": null,
      "outputs": []
    },
    {
      "cell_type": "code",
      "metadata": {
        "id": "NGCpueUuOy18"
      },
      "source": [
        "def initialisation():\r\n",
        "    lattice = np.random.randint(0,2,(n,n))\r\n",
        "    lattice[lattice==0] =- 1\r\n",
        "    return np.array(lattice)\r\n",
        "\r\n",
        "def mag(lattice):\r\n",
        "    return np.sum(lattice)/(n*n)\r\n",
        "\r\n",
        "def bc(i):\r\n",
        "    if i > n-1:\r\n",
        "        return 0\r\n",
        "    if i < 0:\r\n",
        "        return n-1\r\n",
        "    else:\r\n",
        "        return i\r\n",
        "\r\n",
        "def energy(lattice, i, j):\r\n",
        "    return -1 * lattice[i,j] * (lattice[bc(i-1), j] + lattice[bc(i+1), j] + lattice[i, bc(j-1)] + lattice[i, bc(j+1)])\r\n",
        "\r\n",
        "def p(lattice,i,j,T,Z):\r\n",
        "    return np.exp(-energy(lattice,i,j)/T) / Z\r\n",
        "\r\n",
        "def Zed(lattice,T):\r\n",
        "    z=0\r\n",
        "    for i in range(n):\r\n",
        "        for j in range(n):\r\n",
        "            z+=np.exp(-energy(lattice,i,j)/T)    \r\n",
        "    return z"
      ],
      "execution_count": null,
      "outputs": []
    },
    {
      "cell_type": "code",
      "metadata": {
        "id": "m94XJdt-O1E0"
      },
      "source": [
        "def step(lattice,T):\r\n",
        "\r\n",
        "    i,j=np.random.randint(0,n),np.random.randint(0,n)\r\n",
        "\r\n",
        "    lattice_new=lattice.copy()\r\n",
        "    lattice_new[i,j] = lattice[i,j] * -1\r\n",
        "\r\n",
        "    Z=Zed(lattice,T)\r\n",
        "\r\n",
        "    prob=min(1,p(lattice_new,i,j,T,Z)/p(lattice,i,j,T,Z))\r\n",
        "\r\n",
        "    if np.random.random()<prob:\r\n",
        "        return lattice_new,prob\r\n",
        "    return lattice,prob"
      ],
      "execution_count": null,
      "outputs": []
    },
    {
      "cell_type": "code",
      "metadata": {
        "colab": {
          "base_uri": "https://localhost:8080/"
        },
        "id": "rwG-kgePVJ1V",
        "outputId": "5ac2e06d-d60e-41c0-8c77-d7af947a775c"
      },
      "source": [
        "ps=[]\r\n",
        "lattice=initialisation()\r\n",
        "for i in range(10000):\r\n",
        "    if i%100==0:\r\n",
        "        print(i)\r\n",
        "    lattice,_ = step(lattice,0.5)\r\n"
      ],
      "execution_count": null,
      "outputs": [
        {
          "output_type": "stream",
          "text": [
            "0\n",
            "100\n",
            "200\n",
            "300\n",
            "400\n",
            "500\n",
            "600\n",
            "700\n",
            "800\n",
            "900\n",
            "1000\n",
            "1100\n",
            "1200\n",
            "1300\n",
            "1400\n",
            "1500\n",
            "1600\n",
            "1700\n",
            "1800\n",
            "1900\n",
            "2000\n",
            "2100\n",
            "2200\n",
            "2300\n",
            "2400\n",
            "2500\n",
            "2600\n",
            "2700\n",
            "2800\n",
            "2900\n",
            "3000\n",
            "3100\n",
            "3200\n",
            "3300\n",
            "3400\n",
            "3500\n",
            "3600\n",
            "3700\n",
            "3800\n",
            "3900\n",
            "4000\n",
            "4100\n",
            "4200\n",
            "4300\n",
            "4400\n",
            "4500\n",
            "4600\n",
            "4700\n",
            "4800\n",
            "4900\n",
            "5000\n",
            "5100\n",
            "5200\n",
            "5300\n",
            "5400\n",
            "5500\n",
            "5600\n",
            "5700\n",
            "5800\n",
            "5900\n",
            "6000\n",
            "6100\n",
            "6200\n",
            "6300\n",
            "6400\n",
            "6500\n",
            "6600\n",
            "6700\n",
            "6800\n",
            "6900\n",
            "7000\n",
            "7100\n",
            "7200\n",
            "7300\n",
            "7400\n",
            "7500\n",
            "7600\n",
            "7700\n",
            "7800\n",
            "7900\n",
            "8000\n",
            "8100\n",
            "8200\n",
            "8300\n",
            "8400\n",
            "8500\n",
            "8600\n",
            "8700\n",
            "8800\n",
            "8900\n",
            "9000\n",
            "9100\n",
            "9200\n",
            "9300\n",
            "9400\n",
            "9500\n",
            "9600\n",
            "9700\n",
            "9800\n",
            "9900\n"
          ],
          "name": "stdout"
        }
      ]
    },
    {
      "cell_type": "code",
      "metadata": {
        "colab": {
          "base_uri": "https://localhost:8080/",
          "height": 265
        },
        "id": "5P8ksiFuXGnq",
        "outputId": "46103715-f0d4-4753-ef77-6d48e184f31d"
      },
      "source": [
        "plt.hist(ps)\r\n",
        "plt.show()"
      ],
      "execution_count": null,
      "outputs": [
        {
          "output_type": "display_data",
          "data": {
            "image/png": "[encoded data removed]",
            "text/plain": [
              "<Figure size 432x288 with 1 Axes>"
            ]
          },
          "metadata": {
            "tags": []
          }
        }
      ]
    },
    {
      "cell_type": "code",
      "metadata": {
        "colab": {
          "base_uri": "https://localhost:8080/",
          "height": 267
        },
        "id": "Nj3KUEvKXKOf",
        "outputId": "c867d892-930d-48e3-9b9a-a7c00bf331da"
      },
      "source": [
        "plt.imshow(lattice)\r\n",
        "plt.show()"
      ],
      "execution_count": null,
      "outputs": [
        {
          "output_type": "display_data",
          "data": {
            "image/png": "[encoded data removed]",
            "text/plain": [
              "<Figure size 432x288 with 1 Axes>"
            ]
          },
          "metadata": {
            "tags": [],
            "needs_background": "light"
          }
        }
      ]
    },
    {
      "cell_type": "code",
      "metadata": {
        "colab": {
          "base_uri": "https://localhost:8080/",
          "height": 162
        },
        "id": "XTCpXggOR1CJ",
        "outputId": "bf762b1e-c806-498d-86a8-9765e04fb94f"
      },
      "source": [
        "lattice.info()"
      ],
      "execution_count": null,
      "outputs": [
        {
          "output_type": "error",
          "ename": "AttributeError",
          "evalue": "ignored",
          "traceback": [
            "\u001b[0;31m---------------------------------------------------------------------------\u001b[0m",
            "\u001b[0;31mAttributeError\u001b[0m                            Traceback (most recent call last)",
            "\u001b[0;32m<ipython-input-15-fe4ed923e3cb>\u001b[0m in \u001b[0;36m<module>\u001b[0;34m()\u001b[0m\n\u001b[0;32m----> 1\u001b[0;31m \u001b[0mlattice\u001b[0m\u001b[0;34m.\u001b[0m\u001b[0minfo\u001b[0m\u001b[0;34m(\u001b[0m\u001b[0;34m)\u001b[0m\u001b[0;34m\u001b[0m\u001b[0;34m\u001b[0m\u001b[0m\n\u001b[0m",
            "\u001b[0;31mAttributeError\u001b[0m: 'numpy.ndarray' object has no attribute 'info'"
          ]
        }
      ]
    },
    {
      "cell_type": "code",
      "metadata": {
        "colab": {
          "background_save": true
        },
        "id": "jRDfaqamlpAC"
      },
      "source": [
        "Ts=np.linspace(0.1,5,20)\r\n",
        "magn=[]\r\n",
        "for T in Ts:\r\n",
        "    lattice=initialisation()\r\n",
        "    for i in range(2000):\r\n",
        "        lattice,_ = step(lattice,T)\r\n",
        "    magn.append(mag(lattice))"
      ],
      "execution_count": null,
      "outputs": []
    },
    {
      "cell_type": "code",
      "metadata": {
        "id": "QsxDMpo3mFS6"
      },
      "source": [
        "plt.plot(Ts,magn)\r\n",
        "plt.show()"
      ],
      "execution_count": null,
      "outputs": []
    }
  ]
}